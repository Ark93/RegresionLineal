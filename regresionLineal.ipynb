{
 "cells": [
  {
   "cell_type": "code",
   "execution_count": 1,
   "metadata": {},
   "outputs": [],
   "source": [
    "import numpy as np\n",
    "import matplotlib.pyplot as plt"
   ]
  },
  {
   "cell_type": "code",
   "execution_count": 2,
   "metadata": {},
   "outputs": [],
   "source": [
    "# function to elevate data to 10^3 in cientific notation\n",
    "# because the data is originaly between 0 and 1\n",
    "def e3(x):\n",
    "    return x*(10**3)\n",
    "\n",
    "#function to plot data\n",
    "def plot_data(data):\n",
    "    print plt.plot(data[0],data[1])\n",
    "    plt.xlabel('x')\n",
    "    plt.ylabel('y')"
   ]
  },
  {
   "cell_type": "code",
   "execution_count": null,
   "metadata": {},
   "outputs": [],
   "source": [
    ""
   ]
  }
 ],
 "metadata": {},
 "nbformat": 4,
 "nbformat_minor": 0
}